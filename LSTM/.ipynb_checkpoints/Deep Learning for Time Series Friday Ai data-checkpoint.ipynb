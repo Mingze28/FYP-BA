{
 "cells": [
  {
   "cell_type": "code",
   "execution_count": 1,
   "id": "limiting-biography",
   "metadata": {},
   "outputs": [],
   "source": [
    "import warnings\n",
    "import numpy as np\n",
    "import pandas as pd\n",
    "import matplotlib.pyplot as plt\n",
    "\n",
    "from tensorflow import keras\n",
    "from sklearn.metrics import mean_squared_error\n",
    "from sklearn.model_selection import train_test_split\n",
    "\n",
    "import chart_studio.plotly as py\n",
    "import plotly.graph_objs as go\n",
    "from plotly.offline import init_notebook_mode, iplot\n",
    "\n",
    "import datetime\n",
    "import holidays\n",
    "\n",
    "import seaborn as sns"
   ]
  },
  {
   "cell_type": "code",
   "execution_count": 109,
   "id": "korean-cornell",
   "metadata": {},
   "outputs": [],
   "source": [
    "#read data\n",
    "df_trans = pd.read_excel('./demand-forecasting-kernels-only/data_friday_ai.xlsx',sheet_name=5, engine='openpyxl')\n",
    "df_trans=df_trans.drop(['customer_id','employee_id','invoice_no.','trans_price'],axis=1)"
   ]
  },
  {
   "cell_type": "code",
   "execution_count": 110,
   "id": "geographic-mozambique",
   "metadata": {},
   "outputs": [],
   "source": [
    "def sort_data_weekly(df):\n",
    "    \n",
    "    sort_df = df.sort_values('time_stamp').groupby(['item_id', 'store_id', 'time_stamp'], as_index=False)\n",
    "    sort_df = sort_df.agg({'quantity':['sum']})\n",
    "    sort_df.columns = ['item', 'store', 'date', 'sales']\n",
    "    \n",
    "    sort_df=sort_df.set_index('date')\n",
    "    sort_df['week']=sort_df.index.isocalendar().week\n",
    "    \n",
    "    return sort_df\n",
    "\n",
    "\n",
    "def select_item_shop(df,item_id,shop_id):\n",
    "    df=df[(df['store']==shop_id)&(df['item']==item_id)]\n",
    "    df_r=df.drop(['item','store'],axis=1)\n",
    "    return df_r\n",
    "\n",
    "\n",
    "def additional_info(df):\n",
    "    \n",
    "    weekend=[]\n",
    "    holiday=[]\n",
    "    sg_holidays = holidays.SG()\n",
    "    for i, row in df.iterrows():\n",
    "        weekno=i.weekday()\n",
    "\n",
    "        if weekno < 5:\n",
    "            weekend.append(0)\n",
    "        else:  # 5 Sat, 6 Sun\n",
    "            weekend.append(1)\n",
    "\n",
    "        if i in sg_holidays:\n",
    "            holiday.append(1)\n",
    "        else:\n",
    "            holiday.append(0)\n",
    "\n",
    "    df['is_weekend']=weekend\n",
    "    df['is_holiday']=holiday\n",
    "    \n",
    "    return df\n",
    "\n",
    "def sum_by_week(df):\n",
    "    \n",
    "    df=df.groupby(['week']).sum()\n",
    "    return df"
   ]
  },
  {
   "cell_type": "code",
   "execution_count": 111,
   "id": "tired-driving",
   "metadata": {},
   "outputs": [],
   "source": [
    "df=sort_data_weekly(df_trans)\n",
    "df=select_item_shop(df,2,1)\n",
    "df=additional_info(df)\n",
    "df=sum_by_week(df)"
   ]
  },
  {
   "cell_type": "code",
   "execution_count": 116,
   "id": "informal-environment",
   "metadata": {},
   "outputs": [
    {
     "name": "stdout",
     "output_type": "stream",
     "text": [
      "43 3\n"
     ]
    }
   ],
   "source": [
    "train_size = int(len(df) * 0.95)\n",
    "test_size = len(df) - train_size\n",
    "train, test = df.iloc[0:train_size], df.iloc[train_size:len(df)]\n",
    "print(len(train), len(test))"
   ]
  },
  {
   "cell_type": "code",
   "execution_count": 24,
   "id": "muslim-fleece",
   "metadata": {},
   "outputs": [
    {
     "name": "stderr",
     "output_type": "stream",
     "text": [
      "/Users/mingze/opt/anaconda3/envs/tf/lib/python3.7/site-packages/pandas/core/indexing.py:1738: SettingWithCopyWarning:\n",
      "\n",
      "\n",
      "A value is trying to be set on a copy of a slice from a DataFrame.\n",
      "Try using .loc[row_indexer,col_indexer] = value instead\n",
      "\n",
      "See the caveats in the documentation: https://pandas.pydata.org/pandas-docs/stable/user_guide/indexing.html#returning-a-view-versus-a-copy\n",
      "\n",
      "/Users/mingze/opt/anaconda3/envs/tf/lib/python3.7/site-packages/ipykernel_launcher.py:13: SettingWithCopyWarning:\n",
      "\n",
      "\n",
      "A value is trying to be set on a copy of a slice from a DataFrame.\n",
      "Try using .loc[row_indexer,col_indexer] = value instead\n",
      "\n",
      "See the caveats in the documentation: https://pandas.pydata.org/pandas-docs/stable/user_guide/indexing.html#returning-a-view-versus-a-copy\n",
      "\n",
      "/Users/mingze/opt/anaconda3/envs/tf/lib/python3.7/site-packages/pandas/core/indexing.py:1738: SettingWithCopyWarning:\n",
      "\n",
      "\n",
      "A value is trying to be set on a copy of a slice from a DataFrame.\n",
      "Try using .loc[row_indexer,col_indexer] = value instead\n",
      "\n",
      "See the caveats in the documentation: https://pandas.pydata.org/pandas-docs/stable/user_guide/indexing.html#returning-a-view-versus-a-copy\n",
      "\n",
      "/Users/mingze/opt/anaconda3/envs/tf/lib/python3.7/site-packages/ipykernel_launcher.py:16: SettingWithCopyWarning:\n",
      "\n",
      "\n",
      "A value is trying to be set on a copy of a slice from a DataFrame.\n",
      "Try using .loc[row_indexer,col_indexer] = value instead\n",
      "\n",
      "See the caveats in the documentation: https://pandas.pydata.org/pandas-docs/stable/user_guide/indexing.html#returning-a-view-versus-a-copy\n",
      "\n"
     ]
    }
   ],
   "source": [
    "from sklearn.preprocessing import RobustScaler\n",
    "\n",
    "f_columns = ['is_weekend', 'is_holiday']\n",
    "\n",
    "\n",
    "f_transformer = RobustScaler()\n",
    "sales_transformer = RobustScaler()\n",
    "\n",
    "f_transformer = f_transformer.fit(train[f_columns].to_numpy())\n",
    "sales_transformer = sales_transformer.fit(train[['sales']])\n",
    "\n",
    "train.loc[:, f_columns] = f_transformer.transform(train[f_columns].to_numpy())\n",
    "train['sales'] = sales_transformer.transform(train[['sales']])\n",
    "\n",
    "test.loc[:, f_columns] = f_transformer.transform(test[f_columns].to_numpy())\n",
    "test['sales'] = sales_transformer.transform(test[['sales']])"
   ]
  },
  {
   "cell_type": "code",
   "execution_count": 25,
   "id": "cordless-reliance",
   "metadata": {},
   "outputs": [],
   "source": [
    "def create_dataset(X, y, time_steps=1):\n",
    "    Xs, ys = [], []\n",
    "    for i in range(len(X) - time_steps):\n",
    "        v = X.iloc[i:(i + time_steps)].values\n",
    "        Xs.append(v)        \n",
    "        ys.append(y.iloc[i + time_steps])\n",
    "    return np.array(Xs), np.array(ys)"
   ]
  },
  {
   "cell_type": "code",
   "execution_count": 26,
   "id": "indirect-aircraft",
   "metadata": {},
   "outputs": [
    {
     "name": "stdout",
     "output_type": "stream",
     "text": [
      "(42, 1, 3) (42,)\n"
     ]
    }
   ],
   "source": [
    "time_steps = 1\n",
    "\n",
    "# reshape to [samples, time_steps, n_features]\n",
    "\n",
    "X_train, y_train = create_dataset(train, train.sales, time_steps)\n",
    "X_test, y_test = create_dataset(test, test.sales, time_steps)\n",
    "\n",
    "print(X_train.shape, y_train.shape)"
   ]
  },
  {
   "cell_type": "code",
   "execution_count": 33,
   "id": "suitable-situation",
   "metadata": {},
   "outputs": [],
   "source": [
    "model = keras.Sequential()\n",
    "model.add(\n",
    "  keras.layers.Bidirectional(\n",
    "    keras.layers.LSTM(\n",
    "      units=32, \n",
    "      input_shape=(X_train.shape[1], X_train.shape[2])\n",
    "    )\n",
    "  )\n",
    ")\n",
    "model.add(keras.layers.Dropout(rate=0.2))\n",
    "model.add(keras.layers.Dense(units=1))\n",
    "model.compile(loss='mean_squared_error', optimizer='adam')"
   ]
  },
  {
   "cell_type": "code",
   "execution_count": 34,
   "id": "exact-mustang",
   "metadata": {},
   "outputs": [
    {
     "name": "stdout",
     "output_type": "stream",
     "text": [
      "Train on 37 samples, validate on 5 samples\n",
      "Epoch 1/10\n",
      "37/37 - 3s - loss: 0.1999 - val_loss: 0.8650\n",
      "Epoch 2/10\n",
      "37/37 - 0s - loss: 0.1980 - val_loss: 0.8660\n",
      "Epoch 3/10\n",
      "37/37 - 0s - loss: 0.2000 - val_loss: 0.8663\n",
      "Epoch 4/10\n",
      "37/37 - 0s - loss: 0.1946 - val_loss: 0.8665\n",
      "Epoch 5/10\n",
      "37/37 - 0s - loss: 0.1959 - val_loss: 0.8664\n",
      "Epoch 6/10\n",
      "37/37 - 0s - loss: 0.2024 - val_loss: 0.8662\n",
      "Epoch 7/10\n",
      "37/37 - 0s - loss: 0.2005 - val_loss: 0.8660\n",
      "Epoch 8/10\n",
      "37/37 - 0s - loss: 0.1990 - val_loss: 0.8659\n",
      "Epoch 9/10\n",
      "37/37 - 0s - loss: 0.1973 - val_loss: 0.8659\n",
      "Epoch 10/10\n",
      "37/37 - 0s - loss: 0.1962 - val_loss: 0.8659\n"
     ]
    }
   ],
   "source": [
    "history = model.fit(\n",
    "    X_train, y_train, \n",
    "    epochs=10, \n",
    "    batch_size=32, \n",
    "    validation_split=0.1,\n",
    "    verbose=2,\n",
    "    shuffle=False\n",
    ")"
   ]
  },
  {
   "cell_type": "code",
   "execution_count": 35,
   "id": "excessive-expense",
   "metadata": {},
   "outputs": [
    {
     "data": {
      "image/png": "[encoded data removed]",
      "text/plain": [
       "<Figure size 432x288 with 1 Axes>"
      ]
     },
     "metadata": {
      "needs_background": "light"
     },
     "output_type": "display_data"
    }
   ],
   "source": [
    "plt.plot(history.history['loss'], label='train')\n",
    "plt.plot(history.history['val_loss'], label='test')\n",
    "plt.legend();"
   ]
  },
  {
   "cell_type": "code",
   "execution_count": 36,
   "id": "interim-effectiveness",
   "metadata": {},
   "outputs": [],
   "source": [
    "y_pred = model.predict(X_test)"
   ]
  },
  {
   "cell_type": "code",
   "execution_count": 37,
   "id": "apart-coach",
   "metadata": {},
   "outputs": [],
   "source": [
    "y_train_inv = sales_transformer.inverse_transform(y_train.reshape(1, -1))\n",
    "y_test_inv = sales_transformer.inverse_transform(y_test.reshape(1, -1))\n",
    "y_pred_inv = sales_transformer.inverse_transform(y_pred)"
   ]
  },
  {
   "cell_type": "code",
   "execution_count": 38,
   "id": "varied-developer",
   "metadata": {},
   "outputs": [
    {
     "data": {
      "image/png": "[encoded data removed]",
      "text/plain": [
       "<Figure size 432x288 with 1 Axes>"
      ]
     },
     "metadata": {
      "needs_background": "light"
     },
     "output_type": "display_data"
    }
   ],
   "source": [
    "plt.plot(np.arange(0, len(y_train)), y_train_inv.flatten(), 'g', label=\"history\")\n",
    "plt.plot(np.arange(len(y_train), len(y_train) + len(y_test)), y_test_inv.flatten(), marker='.', label=\"true\")\n",
    "plt.plot(np.arange(len(y_train), len(y_train) + len(y_test)), y_pred_inv.flatten(), 'r', label=\"prediction\")\n",
    "plt.ylabel('Sales Count')\n",
    "plt.xlabel('Time Step')\n",
    "plt.legend()\n",
    "plt.show();"
   ]
  },
  {
   "cell_type": "code",
   "execution_count": null,
   "id": "leading-lodge",
   "metadata": {},
   "outputs": [],
   "source": []
  }
 ],
 "metadata": {
  "kernelspec": {
   "display_name": "Python 3",
   "language": "python",
   "name": "python3"
  },
  "language_info": {
   "codemirror_mode": {
    "name": "ipython",
    "version": 3
   },
   "file_extension": ".py",
   "mimetype": "text/x-python",
   "name": "python",
   "nbconvert_exporter": "python",
   "pygments_lexer": "ipython3",
   "version": "3.7.10"
  }
 },
 "nbformat": 4,
 "nbformat_minor": 5
}
