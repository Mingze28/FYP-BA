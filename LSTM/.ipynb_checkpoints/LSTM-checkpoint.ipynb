{
 "cells": [
  {
   "cell_type": "code",
   "execution_count": 1,
   "id": "limiting-biography",
   "metadata": {},
   "outputs": [],
   "source": [
    "import warnings\n",
    "\n",
    "warnings.filterwarnings('ignore')\n",
    "import numpy as np\n",
    "import pandas as pd\n",
    "import matplotlib.pyplot as plt\n",
    "\n",
    "from tensorflow import keras\n",
    "from sklearn.metrics import mean_squared_error\n",
    "from sklearn.model_selection import train_test_split\n",
    "from sklearn.preprocessing import RobustScaler\n",
    "\n",
    "import chart_studio.plotly as py\n",
    "import plotly.graph_objs as go\n",
    "from plotly.offline import init_notebook_mode, iplot\n",
    "\n",
    "\n",
    "import datetime\n",
    "import holidays\n",
    "\n",
    "import seaborn as sns"
   ]
  },
  {
   "cell_type": "code",
   "execution_count": 30,
   "id": "korean-cornell",
   "metadata": {},
   "outputs": [],
   "source": [
    "#read data\n",
    "df_trans = pd.read_excel('./demand-forecasting-kernels-only/data_friday_ai.xlsx', engine='openpyxl')\n",
    "df_trans=df_trans.drop(['customer_id','employee_id','invoice_no.','trans_price'],axis=1)"
   ]
  },
  {
   "cell_type": "code",
   "execution_count": 91,
   "id": "recognized-washington",
   "metadata": {},
   "outputs": [],
   "source": [
    "def sort_data_weekly(df):\n",
    "    \n",
    "    sort_df = df.sort_values('time_stamp').groupby(['item_id', 'store_id', 'time_stamp'], as_index=False)\n",
    "    sort_df = sort_df.agg({'quantity':['sum']})\n",
    "    sort_df.columns = ['item', 'store', 'date', 'sales']\n",
    "    \n",
    "    sort_df=sort_df.set_index('date')\n",
    "    sort_df['week']=sort_df.index.isocalendar().week\n",
    " \n",
    "\n",
    "#     sort_df['week']=sort_df['date'].isocalendar().week\n",
    "    return sort_df\n",
    "\n",
    "\n",
    "def select_item_shop(df,item_id,shop_id):\n",
    "    df=df[(df['store']==shop_id)&(df['item']==item_id)]\n",
    "    df_r=df.drop(['item','store'],axis=1)\n",
    "    return df_r\n",
    "\n",
    "\n",
    "def additional_info(df):\n",
    "    \n",
    "    weekend=[]\n",
    "    holiday=[]\n",
    "    sg_holidays = holidays.SG()\n",
    "    for i, row in df.iterrows():\n",
    "        weekno=i.weekday()\n",
    "\n",
    "        if weekno < 5:\n",
    "            weekend.append(0)\n",
    "        else:  # 5 Sat, 6 Sun\n",
    "            weekend.append(1)\n",
    "\n",
    "        if i in sg_holidays:\n",
    "            holiday.append(1)\n",
    "        else:\n",
    "            holiday.append(0)\n",
    "\n",
    "    df['is_weekend']=weekend\n",
    "    df['is_holiday']=holiday\n",
    "    \n",
    "    return df\n",
    "\n",
    "def sum_by_week(df):\n",
    "    \n",
    "    df=df.groupby(['week']).sum()\n",
    "    df['weeks'] = df.index\n",
    "    return df\n",
    "\n",
    "def train_test_split(df):\n",
    "    train_size=int(len(df)*0.90)\n",
    "    test_size = len(df) - train_size\n",
    "    train, test = df.iloc[0:train_size], df.iloc[train_size:len(df)]\n",
    "    return train,test\n",
    "\n",
    "def feature_transformer(df,input_features):\n",
    "    f_transformer = RobustScaler()\n",
    "    target_transformer = RobustScaler()\n",
    "\n",
    "    f_transformer = f_transformer.fit(df[input_features].to_numpy())\n",
    "    target_transformer = target_transformer.fit(df[['sales']])\n",
    "    \n",
    "    df.loc[:, input_features] = f_transformer.transform(df[input_features].to_numpy())\n",
    "    df['sales'] = target_transformer.transform(df[['sales']])\n",
    "    \n",
    "    return df\n",
    "\n",
    "\n",
    "def data_inverse(df,target_df):\n",
    "    \n",
    "    target_transformer = RobustScaler()\n",
    "    target_transformer = target_transformer.fit(df[['sales']])\n",
    "    result = target_transformer.inverse_transform(target_df.reshape(1, -1))\n",
    "    return result\n",
    "\n",
    "\n",
    "def create_dataset(X, y, time_steps=1):\n",
    "    Xs, ys = [], []\n",
    "    for i in range(len(X) - time_steps):\n",
    "        v = X.iloc[i:(i + time_steps)].values\n",
    "        Xs.append(v)        \n",
    "        ys.append(y.iloc[i + time_steps])\n",
    "    return np.array(Xs), np.array(ys)"
   ]
  },
  {
   "cell_type": "code",
   "execution_count": 92,
   "id": "right-belfast",
   "metadata": {},
   "outputs": [],
   "source": [
    "df=sort_data_weekly(df_trans)\n",
    "df=select_item_shop(df,4,1)\n",
    "df=additional_info(df)\n",
    "df=sum_by_week(df)\n"
   ]
  },
  {
   "cell_type": "code",
   "execution_count": 128,
   "id": "laden-vintage",
   "metadata": {},
   "outputs": [
    {
     "data": {
      "text/html": [
       "<div>\n",
       "<style scoped>\n",
       "    .dataframe tbody tr th:only-of-type {\n",
       "        vertical-align: middle;\n",
       "    }\n",
       "\n",
       "    .dataframe tbody tr th {\n",
       "        vertical-align: top;\n",
       "    }\n",
       "\n",
       "    .dataframe thead th {\n",
       "        text-align: right;\n",
       "    }\n",
       "</style>\n",
       "<table border=\"1\" class=\"dataframe\">\n",
       "  <thead>\n",
       "    <tr style=\"text-align: right;\">\n",
       "      <th></th>\n",
       "      <th>sales</th>\n",
       "      <th>is_weekend</th>\n",
       "      <th>is_holiday</th>\n",
       "      <th>weeks</th>\n",
       "    </tr>\n",
       "    <tr>\n",
       "      <th>week</th>\n",
       "      <th></th>\n",
       "      <th></th>\n",
       "      <th></th>\n",
       "      <th></th>\n",
       "    </tr>\n",
       "  </thead>\n",
       "  <tbody>\n",
       "    <tr>\n",
       "      <th>1</th>\n",
       "      <td>1</td>\n",
       "      <td>0</td>\n",
       "      <td>1</td>\n",
       "      <td>1</td>\n",
       "    </tr>\n",
       "    <tr>\n",
       "      <th>2</th>\n",
       "      <td>2</td>\n",
       "      <td>0</td>\n",
       "      <td>0</td>\n",
       "      <td>2</td>\n",
       "    </tr>\n",
       "    <tr>\n",
       "      <th>3</th>\n",
       "      <td>4</td>\n",
       "      <td>0</td>\n",
       "      <td>0</td>\n",
       "      <td>3</td>\n",
       "    </tr>\n",
       "    <tr>\n",
       "      <th>4</th>\n",
       "      <td>2</td>\n",
       "      <td>1</td>\n",
       "      <td>0</td>\n",
       "      <td>4</td>\n",
       "    </tr>\n",
       "    <tr>\n",
       "      <th>5</th>\n",
       "      <td>1</td>\n",
       "      <td>0</td>\n",
       "      <td>0</td>\n",
       "      <td>5</td>\n",
       "    </tr>\n",
       "  </tbody>\n",
       "</table>\n",
       "</div>"
      ],
      "text/plain": [
       "      sales  is_weekend  is_holiday weeks\n",
       "week                                     \n",
       "1         1           0           1     1\n",
       "2         2           0           0     2\n",
       "3         4           0           0     3\n",
       "4         2           1           0     4\n",
       "5         1           0           0     5"
      ]
     },
     "execution_count": 128,
     "metadata": {},
     "output_type": "execute_result"
    }
   ],
   "source": [
    "df.head()"
   ]
  },
  {
   "cell_type": "code",
   "execution_count": 98,
   "id": "monthly-screening",
   "metadata": {},
   "outputs": [],
   "source": [
    "train,test=train_test_split(df)\n",
    "\n",
    "train=feature_transformer(train,['is_weekend', 'is_holiday','weeks'])\n",
    "test=feature_transformer(test,['is_weekend', 'is_holiday','weeks'])"
   ]
  },
  {
   "cell_type": "code",
   "execution_count": 99,
   "id": "eastern-hartford",
   "metadata": {},
   "outputs": [
    {
     "data": {
      "text/html": [
       "<div>\n",
       "<style scoped>\n",
       "    .dataframe tbody tr th:only-of-type {\n",
       "        vertical-align: middle;\n",
       "    }\n",
       "\n",
       "    .dataframe tbody tr th {\n",
       "        vertical-align: top;\n",
       "    }\n",
       "\n",
       "    .dataframe thead th {\n",
       "        text-align: right;\n",
       "    }\n",
       "</style>\n",
       "<table border=\"1\" class=\"dataframe\">\n",
       "  <thead>\n",
       "    <tr style=\"text-align: right;\">\n",
       "      <th></th>\n",
       "      <th>sales</th>\n",
       "      <th>is_weekend</th>\n",
       "      <th>is_holiday</th>\n",
       "      <th>weeks</th>\n",
       "    </tr>\n",
       "    <tr>\n",
       "      <th>week</th>\n",
       "      <th></th>\n",
       "      <th></th>\n",
       "      <th></th>\n",
       "      <th></th>\n",
       "    </tr>\n",
       "  </thead>\n",
       "  <tbody>\n",
       "    <tr>\n",
       "      <th>49</th>\n",
       "      <td>0.0</td>\n",
       "      <td>1.0</td>\n",
       "      <td>0.0</td>\n",
       "      <td>-1.0</td>\n",
       "    </tr>\n",
       "    <tr>\n",
       "      <th>50</th>\n",
       "      <td>0.5</td>\n",
       "      <td>0.0</td>\n",
       "      <td>0.0</td>\n",
       "      <td>-0.5</td>\n",
       "    </tr>\n",
       "    <tr>\n",
       "      <th>51</th>\n",
       "      <td>-0.5</td>\n",
       "      <td>0.0</td>\n",
       "      <td>0.0</td>\n",
       "      <td>0.0</td>\n",
       "    </tr>\n",
       "    <tr>\n",
       "      <th>52</th>\n",
       "      <td>0.5</td>\n",
       "      <td>0.0</td>\n",
       "      <td>1.0</td>\n",
       "      <td>0.5</td>\n",
       "    </tr>\n",
       "    <tr>\n",
       "      <th>53</th>\n",
       "      <td>-0.5</td>\n",
       "      <td>0.0</td>\n",
       "      <td>0.0</td>\n",
       "      <td>1.0</td>\n",
       "    </tr>\n",
       "  </tbody>\n",
       "</table>\n",
       "</div>"
      ],
      "text/plain": [
       "      sales  is_weekend  is_holiday  weeks\n",
       "week                                      \n",
       "49      0.0         1.0         0.0   -1.0\n",
       "50      0.5         0.0         0.0   -0.5\n",
       "51     -0.5         0.0         0.0    0.0\n",
       "52      0.5         0.0         1.0    0.5\n",
       "53     -0.5         0.0         0.0    1.0"
      ]
     },
     "execution_count": 99,
     "metadata": {},
     "output_type": "execute_result"
    }
   ],
   "source": [
    "test"
   ]
  },
  {
   "cell_type": "code",
   "execution_count": 150,
   "id": "indirect-aircraft",
   "metadata": {},
   "outputs": [
    {
     "name": "stdout",
     "output_type": "stream",
     "text": [
      "(39, 4, 4) (39,)\n"
     ]
    }
   ],
   "source": [
    "#contain how many dates from history (time_steps)\n",
    "time_steps = 4\n",
    "\n",
    "# reshape to [samples, time_steps, n_features]\n",
    "\n",
    "X_train, y_train = create_dataset(train, train.sales, time_steps)\n",
    "X_test, y_test = create_dataset(test, test.sales, time_steps)\n",
    "\n",
    "print(X_train.shape, y_train.shape)"
   ]
  },
  {
   "cell_type": "code",
   "execution_count": 151,
   "id": "advised-ceremony",
   "metadata": {},
   "outputs": [
    {
     "data": {
      "text/plain": [
       "array([[[ 0. ,  1. ,  0. , -1. ],\n",
       "        [ 0.5,  0. ,  0. , -0.5],\n",
       "        [-0.5,  0. ,  0. ,  0. ],\n",
       "        [ 0.5,  0. ,  1. ,  0.5]]])"
      ]
     },
     "execution_count": 151,
     "metadata": {},
     "output_type": "execute_result"
    }
   ],
   "source": [
    "X_test"
   ]
  },
  {
   "cell_type": "code",
   "execution_count": 152,
   "id": "legislative-animal",
   "metadata": {},
   "outputs": [
    {
     "data": {
      "text/plain": [
       "array([-0.5])"
      ]
     },
     "execution_count": 152,
     "metadata": {},
     "output_type": "execute_result"
    }
   ],
   "source": [
    "y_test"
   ]
  },
  {
   "cell_type": "code",
   "execution_count": 153,
   "id": "suitable-situation",
   "metadata": {},
   "outputs": [],
   "source": [
    "model = keras.Sequential()\n",
    "model.add(\n",
    "  keras.layers.Bidirectional(\n",
    "    keras.layers.LSTM(\n",
    "      units=32, \n",
    "      input_shape=(X_train.shape[1], X_train.shape[2])\n",
    "    )\n",
    "  )\n",
    ")\n",
    "model.add(keras.layers.Dropout(rate=0.2))\n",
    "model.add(keras.layers.Dense(units=1))\n",
    "model.compile(loss='mean_squared_error', optimizer='adam')"
   ]
  },
  {
   "cell_type": "code",
   "execution_count": 154,
   "id": "exact-mustang",
   "metadata": {},
   "outputs": [],
   "source": [
    "history = model.fit(\n",
    "    X_train, y_train, \n",
    "    epochs=10, \n",
    "    batch_size=32, \n",
    "    validation_split=0.1,\n",
    "    verbose=0,\n",
    "    shuffle=False\n",
    ")"
   ]
  },
  {
   "cell_type": "code",
   "execution_count": 155,
   "id": "electronic-privacy",
   "metadata": {},
   "outputs": [
    {
     "name": "stdout",
     "output_type": "stream",
     "text": [
      "LSTM:\n",
      "Train rmse: 0.7370659485572595\n",
      "Validation rmse: 0.4416166916489601\n"
     ]
    }
   ],
   "source": [
    "train_pred = model.predict(X_train)\n",
    "valid_pred = model.predict(X_test)\n",
    "print(\"LSTM:\")\n",
    "print('Train rmse:', np.sqrt(mean_squared_error(y_train, train_pred)))\n",
    "print('Validation rmse:', np.sqrt(mean_squared_error(y_test, valid_pred)))"
   ]
  },
  {
   "cell_type": "code",
   "execution_count": 156,
   "id": "subsequent-description",
   "metadata": {},
   "outputs": [],
   "source": [
    "# y_train_inv=data_inverse(df,y_train)\n",
    "\n",
    "y_test_inv = data_inverse(df,y_test)\n",
    "y_pred_inv=data_inverse(df,valid_pred)"
   ]
  },
  {
   "cell_type": "code",
   "execution_count": 157,
   "id": "greenhouse-prescription",
   "metadata": {},
   "outputs": [
    {
     "data": {
      "text/plain": [
       "array([[2.3832333]], dtype=float32)"
      ]
     },
     "execution_count": 157,
     "metadata": {},
     "output_type": "execute_result"
    }
   ],
   "source": [
    "y_pred_inv"
   ]
  },
  {
   "cell_type": "code",
   "execution_count": 158,
   "id": "straight-defeat",
   "metadata": {},
   "outputs": [
    {
     "data": {
      "text/plain": [
       "array([[1.5]])"
      ]
     },
     "execution_count": 158,
     "metadata": {},
     "output_type": "execute_result"
    }
   ],
   "source": [
    "y_test_inv"
   ]
  },
  {
   "cell_type": "code",
   "execution_count": null,
   "id": "successful-manner",
   "metadata": {},
   "outputs": [],
   "source": []
  },
  {
   "cell_type": "code",
   "execution_count": null,
   "id": "macro-german",
   "metadata": {},
   "outputs": [],
   "source": []
  },
  {
   "cell_type": "code",
   "execution_count": null,
   "id": "posted-quest",
   "metadata": {},
   "outputs": [],
   "source": []
  }
 ],
 "metadata": {
  "kernelspec": {
   "display_name": "Python 3",
   "language": "python",
   "name": "python3"
  },
  "language_info": {
   "codemirror_mode": {
    "name": "ipython",
    "version": 3
   },
   "file_extension": ".py",
   "mimetype": "text/x-python",
   "name": "python",
   "nbconvert_exporter": "python",
   "pygments_lexer": "ipython3",
   "version": "3.7.10"
  }
 },
 "nbformat": 4,
 "nbformat_minor": 5
}
