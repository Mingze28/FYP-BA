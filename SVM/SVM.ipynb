{
 "cells": [
  {
   "cell_type": "code",
   "execution_count": 3,
   "id": "native-party",
   "metadata": {},
   "outputs": [],
   "source": [
    "from sklearn import datasets\n",
    "from sklearn import metrics\n",
    "from sklearn.model_selection import train_test_split\n",
    "import matplotlib.pyplot as plt\n",
    "import seaborn as sns\n",
    "import pandas as pd\n",
    "import numpy as np\n",
    "\n",
    "\n",
    "from sklearn.svm import SVC, SVR"
   ]
  },
  {
   "cell_type": "code",
   "execution_count": 76,
   "id": "geographic-spirit",
   "metadata": {},
   "outputs": [],
   "source": [
    "df_trans = pd.read_excel('./data_friday_ai.xlsx', engine='openpyxl')\n",
    "df_trans=df_trans.drop(['customer_id','employee_id','invoice_no.','trans_price'],axis=1)\n",
    "\n",
    "\n"
   ]
  },
  {
   "cell_type": "code",
   "execution_count": 77,
   "id": "little-queue",
   "metadata": {},
   "outputs": [],
   "source": [
    "df=df_trans[(df_trans['store_id']==1)&(df_trans['item_id']==3)]\n",
    "df=df.drop(['store_id','item_id'],axis=1)"
   ]
  },
  {
   "cell_type": "code",
   "execution_count": 78,
   "id": "optional-respondent",
   "metadata": {},
   "outputs": [],
   "source": [
    "df['time_stamp']=pd.to_datetime(df['time_stamp'])"
   ]
  },
  {
   "cell_type": "code",
   "execution_count": 79,
   "id": "chemical-princess",
   "metadata": {},
   "outputs": [],
   "source": [
    "df=df.sort_values(by=['time_stamp'], ascending=[True])"
   ]
  },
  {
   "cell_type": "code",
   "execution_count": 80,
   "id": "alleged-panel",
   "metadata": {},
   "outputs": [],
   "source": [
    "df=df.groupby(['time_stamp']).sum()\n",
    "df['dt']=df.index"
   ]
  },
  {
   "cell_type": "code",
   "execution_count": 81,
   "id": "secret-edinburgh",
   "metadata": {},
   "outputs": [],
   "source": [
    "r = pd.date_range(start=df.dt.min(), end=df.dt.max())\n",
    "df=df.set_index('dt').reindex(r).fillna(0.0).rename_axis('dt').reset_index()\n",
    "\n",
    "\n"
   ]
  },
  {
   "cell_type": "code",
   "execution_count": 82,
   "id": "ranging-infection",
   "metadata": {},
   "outputs": [
    {
     "data": {
      "text/html": [
       "<div>\n",
       "<style scoped>\n",
       "    .dataframe tbody tr th:only-of-type {\n",
       "        vertical-align: middle;\n",
       "    }\n",
       "\n",
       "    .dataframe tbody tr th {\n",
       "        vertical-align: top;\n",
       "    }\n",
       "\n",
       "    .dataframe thead th {\n",
       "        text-align: right;\n",
       "    }\n",
       "</style>\n",
       "<table border=\"1\" class=\"dataframe\">\n",
       "  <thead>\n",
       "    <tr style=\"text-align: right;\">\n",
       "      <th></th>\n",
       "      <th>dt</th>\n",
       "      <th>quantity</th>\n",
       "    </tr>\n",
       "  </thead>\n",
       "  <tbody>\n",
       "    <tr>\n",
       "      <th>0</th>\n",
       "      <td>2015-01-02</td>\n",
       "      <td>1.0</td>\n",
       "    </tr>\n",
       "    <tr>\n",
       "      <th>1</th>\n",
       "      <td>2015-01-03</td>\n",
       "      <td>0.0</td>\n",
       "    </tr>\n",
       "    <tr>\n",
       "      <th>2</th>\n",
       "      <td>2015-01-04</td>\n",
       "      <td>1.0</td>\n",
       "    </tr>\n",
       "    <tr>\n",
       "      <th>3</th>\n",
       "      <td>2015-01-05</td>\n",
       "      <td>1.0</td>\n",
       "    </tr>\n",
       "    <tr>\n",
       "      <th>4</th>\n",
       "      <td>2015-01-06</td>\n",
       "      <td>0.0</td>\n",
       "    </tr>\n",
       "    <tr>\n",
       "      <th>5</th>\n",
       "      <td>2015-01-07</td>\n",
       "      <td>1.0</td>\n",
       "    </tr>\n",
       "    <tr>\n",
       "      <th>6</th>\n",
       "      <td>2015-01-08</td>\n",
       "      <td>0.0</td>\n",
       "    </tr>\n",
       "    <tr>\n",
       "      <th>7</th>\n",
       "      <td>2015-01-09</td>\n",
       "      <td>0.0</td>\n",
       "    </tr>\n",
       "    <tr>\n",
       "      <th>8</th>\n",
       "      <td>2015-01-10</td>\n",
       "      <td>1.0</td>\n",
       "    </tr>\n",
       "    <tr>\n",
       "      <th>9</th>\n",
       "      <td>2015-01-11</td>\n",
       "      <td>2.0</td>\n",
       "    </tr>\n",
       "    <tr>\n",
       "      <th>10</th>\n",
       "      <td>2015-01-12</td>\n",
       "      <td>2.0</td>\n",
       "    </tr>\n",
       "  </tbody>\n",
       "</table>\n",
       "</div>"
      ],
      "text/plain": [
       "           dt  quantity\n",
       "0  2015-01-02       1.0\n",
       "1  2015-01-03       0.0\n",
       "2  2015-01-04       1.0\n",
       "3  2015-01-05       1.0\n",
       "4  2015-01-06       0.0\n",
       "5  2015-01-07       1.0\n",
       "6  2015-01-08       0.0\n",
       "7  2015-01-09       0.0\n",
       "8  2015-01-10       1.0\n",
       "9  2015-01-11       2.0\n",
       "10 2015-01-12       2.0"
      ]
     },
     "execution_count": 82,
     "metadata": {},
     "output_type": "execute_result"
    }
   ],
   "source": [
    "df[0:11]"
   ]
  },
  {
   "cell_type": "code",
   "execution_count": 85,
   "id": "planned-tamil",
   "metadata": {},
   "outputs": [],
   "source": [
    "X = df['dt'].values.reshape(-1,1)\n",
    "y = df['quantity'].values.reshape(-1,1)"
   ]
  },
  {
   "cell_type": "code",
   "execution_count": 92,
   "id": "characteristic-table",
   "metadata": {},
   "outputs": [],
   "source": [
    "from sklearn.preprocessing import StandardScaler\n",
    "sc_X = StandardScaler()\n",
    "sc_y = StandardScaler()\n",
    "X = sc_X.fit_transform(X)\n",
    "y = sc_y.fit_transform(y)"
   ]
  },
  {
   "cell_type": "code",
   "execution_count": 93,
   "id": "identified-crazy",
   "metadata": {},
   "outputs": [],
   "source": [
    "X_train, X_test, y_train, y_test = train_test_split(X, y, test_size=0.1,random_state=109) "
   ]
  },
  {
   "cell_type": "code",
   "execution_count": 94,
   "id": "august-tradition",
   "metadata": {},
   "outputs": [
    {
     "data": {
      "text/plain": [
       "SVR()"
      ]
     },
     "execution_count": 94,
     "metadata": {},
     "output_type": "execute_result"
    }
   ],
   "source": [
    "regressor = SVR(kernel = 'rbf')\n",
    "regressor.fit(X_train, y_train.ravel())"
   ]
  },
  {
   "cell_type": "code",
   "execution_count": 95,
   "id": "vanilla-arkansas",
   "metadata": {},
   "outputs": [],
   "source": [
    "y_pred = regressor.predict(X_test)\n",
    "y_pred = sc_y.inverse_transform(y_pred) "
   ]
  },
  {
   "cell_type": "code",
   "execution_count": 113,
   "id": "assisted-heath",
   "metadata": {},
   "outputs": [],
   "source": [
    "\n",
    "y_pred_inverse = sc_y.inverse_transform(y_pred.reshape(-1, 1))\n"
   ]
  },
  {
   "cell_type": "code",
   "execution_count": 106,
   "id": "oriental-treasurer",
   "metadata": {},
   "outputs": [],
   "source": [
    "y_test_inverse= sc_y.inverse_transform(y_test.reshape(-1, 1))"
   ]
  },
  {
   "cell_type": "code",
   "execution_count": 116,
   "id": "green-plaza",
   "metadata": {},
   "outputs": [
    {
     "name": "stdout",
     "output_type": "stream",
     "text": [
      "Validation rmse: 1.0129750377563196\n"
     ]
    }
   ],
   "source": [
    "from sklearn.metrics import mean_squared_error\n",
    "\n",
    "print('Validation rmse:', np.sqrt(mean_squared_error(y_test, y_pred)))"
   ]
  },
  {
   "cell_type": "code",
   "execution_count": null,
   "id": "collaborative-freight",
   "metadata": {},
   "outputs": [],
   "source": []
  }
 ],
 "metadata": {
  "kernelspec": {
   "display_name": "Python 3",
   "language": "python",
   "name": "python3"
  },
  "language_info": {
   "codemirror_mode": {
    "name": "ipython",
    "version": 3
   },
   "file_extension": ".py",
   "mimetype": "text/x-python",
   "name": "python",
   "nbconvert_exporter": "python",
   "pygments_lexer": "ipython3",
   "version": "3.7.10"
  }
 },
 "nbformat": 4,
 "nbformat_minor": 5
}
